{
 "cells": [
  {
   "cell_type": "markdown",
   "id": "83ed68a5",
   "metadata": {},
   "source": [
    "### ORAS5"
   ]
  },
  {
   "cell_type": "code",
   "execution_count": null,
   "id": "42f858a7",
   "metadata": {},
   "outputs": [],
   "source": [
    "import xarray as xr\n",
    "import numpy as np\n",
    "import matplotlib.pyplot as plt\n",
    "import pandas as pd\n",
    "import function\n",
    "import matplotlib.colors as mcolors\n",
    "from netCDF4 import Dataset\n",
    "def mld_avg_var(mld,var,z):\n",
    "    zmask= (z < mld) # z above mixed layer\n",
    "    intfield=var.where(zmask, drop=True).mean('LEV').squeeze()\n",
    "    return intfield\n",
    "'''统一经纬度，用xarray来显示net_flux'''\n",
    "latitude=np.arange(0.0, 20.30, 0.247)\n",
    "longitude=np.arange(40.0, 65.25, 0.25)\n",
    "d_temp=-0.14\n",
    "file=\"E:\\data\\oras5\\somali-oras5\\oras5_1979-2023_ptemp_500m.nc\";\n",
    "ds= xr.open_dataset(file)\n",
    "ds= list(ds.data_vars.values())[0]\n",
    "ds=ds.sel(LEV=slice(0,120)).groupby('time.month').mean('time').rename({'month': 'time'})\n",
    "sst=ds.sel(LEV=ds.LEV[7])\n",
    "ds=ds.interp(LEV=np.arange(ds.LEV[0],120,0.5))#这一步非常关键\n",
    "a=(ds>(sst+d_temp))\n",
    "ild_idx=ds.where(a,drop=False).squeeze().notnull().argmin(dim='LEV')#\n",
    "ild=ds.LEV[ild_idx];print('max:',ild.max())"
   ]
  },
  {
   "cell_type": "code",
   "execution_count": null,
   "id": "de35f94b",
   "metadata": {},
   "outputs": [],
   "source": [
    "mask=function.make_mask3D(sst,5/(ds.latitude.data[1]-ds.latitude.data[0]),sst)*0"
   ]
  },
  {
   "cell_type": "code",
   "execution_count": null,
   "id": "817253ee",
   "metadata": {},
   "outputs": [],
   "source": [
    "d_rho=0.15\n",
    "file=\"E:\\\\data\\\\oras5\\\\somali-oras5\\\\time_series\\\\oras5_opa4_rho_1979-2023.nc\";ds= xr.open_dataset(file);ds= list(ds.data_vars.values())[0]\n",
    "ds=ds.groupby('time.month').mean('time').rename({'month': 'time'})\n",
    "ds=ds-ds.mean()\n",
    "ssrho=ds.sel(LEV=ds.LEV[0])\n",
    "ds=ds.interp(LEV=np.arange(ds.LEV[0],120,0.5))\n",
    "a=(ds<(ssrho+d_rho))\n",
    "mld_idx=ds.where(a,drop=False).squeeze().notnull().argmin(dim='LEV')#寻找最大深度，notnull使得缺失值为False，不参与后面的计算\n",
    "mld=ds.LEV[mld_idx];print('max:',mld.max())"
   ]
  },
  {
   "cell_type": "code",
   "execution_count": null,
   "id": "91484f39",
   "metadata": {},
   "outputs": [],
   "source": [
    "file=\"E:\\data\\oras5\\somali-oras5\\oras5_1979-2023_ptemp_500m.nc\"\n",
    "ds0 = xr.open_dataset(file);ds= list(ds0.data_vars.values())[0]#选定变量\n",
    "ds=ds.groupby('time.month').mean('time').rename({'month': 'time'}).sel(LEV=slice(0,200))\n",
    "ptemp=ds.interp(LEV=np.arange(ds.LEV[0],200,0.5))\n",
    "mlt=mld_avg_var(mld,ptemp,ptemp.LEV)\n",
    "levels=np.arange(18 , 32, 0.5);colors='jet'\n",
    "file=\"E:\\data\\oras5\\somali-oras5\\oras5_mld&ild&mlt&T_n&mlu&mlv_climate.nc\"\n",
    "ds0 = xr.open_dataset(file);mlt1 = ds0['mlt'].sel(latitude=slice(0,20))"
   ]
  },
  {
   "cell_type": "code",
   "execution_count": null,
   "id": "2e7184df",
   "metadata": {},
   "outputs": [],
   "source": [
    "ds=ptemp.interp(LEV=np.arange(ptemp.LEV[0],120,0.5))\n",
    "a=(ds.LEV==ds.LEV[mld_idx]+5)\n",
    "T_n=ds.where(a, drop=False).mean('LEV').squeeze()\n",
    "levels=np.arange(18 , 32, 0.5);colors='jet'\n",
    "file=\"E:\\data\\oras5\\somali-oras5\\oras5_mld&ild&mlt&T_n&mlu&mlv_climate.nc\"\n",
    "ds0 = xr.open_dataset(file);mlt1 = ds0['T_n'].sel(latitude=slice(0,20))"
   ]
  },
  {
   "cell_type": "code",
   "execution_count": null,
   "id": "3876cf0d",
   "metadata": {},
   "outputs": [],
   "source": [
    "file=\"E:\\data\\oras5\\somali-oras5\\oras5_u_current_climate_200m.nc.nc\"\n",
    "ds0 = xr.open_dataset(file);ds= list(ds0.data_vars.values())[0]#选定变量\n",
    "u=ds.interp(LEV=np.arange(ds.LEV[0],200,0.5))\n",
    "mlu=mld_avg_var(mld,u,u.LEV)\n",
    "levels=np.arange(-1,1, 0.1);colors='seismic'\n",
    "file=\"E:\\data\\oras5\\somali-oras5\\oras5_mld&ild&mlt&T_n&mlu&mlv_climate.nc\"\n",
    "ds0 = xr.open_dataset(file);mlt1 = ds0['mlu'].sel(latitude=slice(0,20))"
   ]
  },
  {
   "cell_type": "code",
   "execution_count": null,
   "id": "0cd9e33a",
   "metadata": {},
   "outputs": [],
   "source": [
    "file=\"E:\\data\\oras5\\somali-oras5\\oras5_v_current_climate_200m.nc.nc\"\n",
    "ds0 = xr.open_dataset(file);ds= list(ds0.data_vars.values())[0]#选定变量\n",
    "v=ds.interp(LEV=np.arange(ds.LEV[0],200,0.5))\n",
    "mlv=mld_avg_var(mld,v,v.LEV)\n",
    "levels=np.arange(-1,1, 0.1);colors='seismic'\n",
    "file=\"E:\\data\\oras5\\somali-oras5\\oras5_mld&ild&mlt&T_n&mlu&mlv_climate.nc\"\n",
    "ds0 = xr.open_dataset(file);mlt1 = ds0['mlv'].sel(latitude=slice(0,20))"
   ]
  },
  {
   "cell_type": "code",
   "execution_count": null,
   "id": "85969a64",
   "metadata": {},
   "outputs": [],
   "source": [
    "def calc_qpen(SW,MLD):\n",
    "    eu=2.71818\n",
    "    T1=0.58*eu**(-MLD/0.35)\n",
    "    T2=0.42*eu**(-MLD/23)\n",
    "    qpen=SW*(T1+T2)\n",
    "    return qpen\n",
    "file1=\"E:\\data\\era5\\era5_40~80E_uwind_vwind_at_evap_lhf_lwr_swr_shf_sst-1980-2023.nc\";ds1=xr.open_dataset(file1);ds=ds1.msnswrf\n",
    "ds=ds.groupby('time.month').mean().rename({'month': 'time'});ds=ds.reindex(latitude=list(reversed(ds.latitude)))\n",
    "sw=ds.interp(latitude=mld.latitude.values, longitude=mld.longitude.values);sw=sw.sel(latitude=slice(-0.5,20.5));\n",
    "Qpen=calc_qpen(sw,mld)\n",
    "file1=\"E:\\\\data\\\\oras5\\\\somali-oras5\\\\no_cycle_MLD_every_term_climate.nc\";ds1=xr.open_dataset(file1);ds=ds1['Qpen']"
   ]
  },
  {
   "cell_type": "code",
   "execution_count": null,
   "id": "5a2f0ea3",
   "metadata": {},
   "outputs": [],
   "source": [
    "rhoconst = 1024# Seawater density (kg/m^3)\n",
    "c_p = 3994# Heat capacity (J/kg/K)\n",
    "const=30*24*60*60/(rhoconst*c_p)\n",
    "file1=\"E:\\data\\oras5\\somali-oras5\\oras5_1979-2023_qnet.nc\";ds = xr.open_dataset(file1);ds= list(ds.data_vars.values())[0]\n",
    "ds=ds.groupby('time.month').mean('time').rename({'month': 'time'});Qnet=ds\n",
    "file=\"E:\\\\data\\\\oras5\\\\somali-oras5\\\\no_cycle_MLD_every_term_climate.nc\";ds0 = xr.open_dataset(file);Qpen1=ds0.Qpen\n",
    "Q1=(Qnet-Qpen1)*const/mld.data\n",
    "Q=(Qnet-Qpen)*const/mld.data"
   ]
  },
  {
   "cell_type": "code",
   "execution_count": null,
   "id": "b25cf44e",
   "metadata": {},
   "outputs": [],
   "source": [
    "a=ptemp.where(ptemp>24).notnull().argmin(dim='LEV')\n",
    "He_24=(ptemp.LEV[a])\n",
    "file1=\"E:\\\\data\\\\oras5\\\\somali-oras5\\\\no_cycle_MLD_every_term_climate.nc\";ds1=xr.open_dataset(file1);ds=ds1['He_24']"
   ]
  },
  {
   "cell_type": "code",
   "execution_count": null,
   "id": "c2b37ff5",
   "metadata": {},
   "outputs": [],
   "source": [
    "file1=\"E:\\data\\era5\\era5_40~80E_uwind_vwind_at_evap_lhf_lwr_swr_shf_sst-1980-2023.nc\";ds1=xr.open_dataset(file1);ds=ds1.msnswrf\n",
    "time=ds.time[0:12];latitude=mlt.latitude;longitude=mlt.longitude\n",
    "sal= xr.DataArray(mlt.data, coords=[time,latitude,longitude],dims=['time', 'lat','lon']);lat=sal.lat;lon=sal.lon;\n",
    "int_U= xr.DataArray(mlu, coords=[time,latitude,longitude],dims=['time', 'lat','lon'])\n",
    "int_V= xr.DataArray(mlv, coords=[time,latitude,longitude],dims=['time', 'lat','lon'])\n",
    "from advection_rd_ml import advection_rd_ml\n",
    "mnadv_climU,mnadv_climV,ekman,T1,h_eddy=advection_rd_ml(sal,lat,lon,time,int_U,int_V,1,-1)\n",
    "adv_u=mnadv_climU.rename({'month': 'time','lat':'latitude','lon':'longitude'})*86400*30.41;\n",
    "adv_v=mnadv_climV.rename({'month': 'time','lat':'latitude','lon':'longitude'})*86400*30.41\n",
    "mask1=function.make_mask3D(adv_u,abs(5/(ds.latitude.data[1]-ds.latitude.data[0])),adv_u)"
   ]
  },
  {
   "cell_type": "code",
   "execution_count": null,
   "id": "7e6e34e6",
   "metadata": {},
   "outputs": [],
   "source": [
    "file=\"E:\\data\\oras5\\somali-oras5\\oras5_mld&ild&mlt&T_n&mlu&mlv_climate.nc\"\n",
    "ds0 = xr.open_dataset(file)\n",
    "mlu_seasonal_means = ds0['mlu']\n",
    "mlv_seasonal_means = ds0['mlv']\n",
    "mlt_seasonal_means = ds0['mlt']\n",
    "\n",
    "key=mlv_seasonal_means.time.data\n",
    "df=mlt_seasonal_means\n",
    "mlt_seasonal_means=df.fillna(mlt_seasonal_means.mean())+mlt_seasonal_means.data[0,:,:]*0"
   ]
  },
  {
   "cell_type": "code",
   "execution_count": null,
   "id": "4afe2a1f",
   "metadata": {},
   "outputs": [],
   "source": [
    "def concat_time(dat):\n",
    "    dat=xr.DataArray(dat.data, coords=[dat.time,dat.latitude,dat.longitude],dims=['time', 'latitude','longitude'])\n",
    "    front=xr.DataArray(dat.sel(time=dat.time[-1:]).data, coords=[[0],dat.latitude,dat.longitude],dims=['time', 'latitude','longitude'])\n",
    "    behind=xr.DataArray(dat.sel(time=dat.time[:1]).data, coords=[[13],dat.latitude,dat.longitude],dims=['time', 'latitude','longitude'])\n",
    "    dat1=xr.concat([dat, behind], dim='time');dat2=xr.concat([front, dat1], dim='time')\n",
    "    return dat2\n",
    "dat=mld*0;dat=xr.DataArray(dat.data, coords=[dat.time,dat.latitude,dat.longitude],dims=['time', 'latitude','longitude'])\n",
    "MLD=concat_time(mld.data+dat)\n",
    "MLD,lat,lon,int_U,int_V=MLD,MLD.latitude,MLD.longitude,mlu,mlv\n",
    "\n",
    "RE=6378000;latarr=lat*np.pi/180.;lonarr=lon*np.pi/180.;\n",
    "\n",
    "dHtmp=MLD.differentiate('time');\n",
    "changeH_change_time=0.5*(dHtmp.isel(time=slice(0,-1))+dHtmp.isel(time=slice(1,None)));\n",
    "#---------------------------------\n",
    "# 2. Time, horizontal derivatives of MLD\n",
    "#----------------------------------\n",
    "dHtmp=(MLD.differentiate('longitude')*np.cos(latarr.isel(latitude=slice(0,None))))/(lonarr.differentiate('longitude'))\n",
    "dHdx=0.5*(dHtmp.isel(longitude=slice(0,None))+dHtmp.isel(longitude=slice(1,None)))/RE\n",
    "\n",
    "dHtmp=MLD.differentiate('latitude')/(latarr.differentiate('latitude'))\n",
    "dHdy=0.5*(dHtmp.isel(latitude=slice(0,None))+dHtmp.isel(latitude=slice(1,None)))/RE;\n",
    "#---------------------------------\n",
    "# 3. Entrainment velocity\n",
    "#----------------------------------\n",
    "const1=24*3600*30.41\n",
    "w_entr=changeH_change_time + (int_U*dHdx)*const1+ int_V*dHdy*const1+(He_24.data+dat).differentiate('time')*-1\n",
    "# do you need to divide changeH_change_time by 86400 like is done in the matlab code?\n",
    "wsgn=w_entr\n",
    "wsgn = wsgn.where(wsgn > 0, 0) # wsgn > 0 is true, wsgn < 0 is false, replace false w 0\n",
    "wsgn = wsgn.where(wsgn == 0, 1) # wsgn=0 is true, not zero is false, replace false with 1\n",
    "#m/month\n",
    "dhdt=wsgn*changeH_change_time[:,1:,1:] *(mlt-T_n+mask)/mld*-1\n",
    "ver_adv=wsgn* ((int_U*dHdx)[:,1:,:]*const1+ int_V*dHdy[:,:,1:]*const1)*(mlt-T_n+mask)/mld*-1\n",
    "Wh=wsgn*((He_24.data+dat).differentiate('time')*-1)*(mlt-T_n+mask)/mld*-1\n",
    "VER=(Wh+ver_adv+dhdt)"
   ]
  },
  {
   "cell_type": "code",
   "execution_count": 51,
   "id": "608c9b8c",
   "metadata": {},
   "outputs": [],
   "source": [
    "dat=ild*0;dat=xr.DataArray(dat.data, coords=[dat.time,dat.latitude,dat.longitude],dims=['time', 'latitude','longitude'])\n",
    "mlt_sum=xr.DataArray(np.swapaxes(np.swapaxes(mlt_sum.data,2,1),2,1),coords=[np.arange(0,13,1),latitude,longitude],dims=['time','latitude','longitude'])\n",
    "hb_data=xr.Dataset({'ild':ild.data+dat,'mld':mld.data+dat,'mlt':mlt.data+dat,'T_n':T_n.data+dat,'mlu':mlu,'mlv':mlv.data+dat,'Qnet':Qnet.data+dat,\n",
    "                    'Qpen':Qpen.data+dat,'He_24':He_24.data+dat,'mask':mask.data+dat,'Q':Q.data+dat,'mlt_tend':mlt_sum.diff('time').data+dat,\n",
    "                    'dhdt':dhdt,'wsgn':wsgn,'ver_adv':ver_adv,'Wh':Wh,'VER':VER})\n",
    "hb_data.to_netcdf('E:\\\\data\\\\oras5\\\\somali-oras5\\\\no_cycle_MLD_every_term_climate_1.nc')"
   ]
  },
  {
   "cell_type": "markdown",
   "id": "4015e9de",
   "metadata": {},
   "source": [
    "### en4"
   ]
  },
  {
   "cell_type": "code",
   "execution_count": null,
   "id": "7320561a",
   "metadata": {},
   "outputs": [],
   "source": [
    "file=\"E:\\data\\en4\\EN4_1980-2023_ptemp+salt.nc\";print(file)\n",
    "ds0= xr.open_dataset(file);ds0=ds0.sel(latitude=slice(0,20),longitude=slice(35,65));ds=ds0.salt\n",
    "en4_salt=ds.groupby('time.month').mean().rename({'month': 'time'});ds=ds0.temp-273.15\n",
    "en4_ptemp=ds.groupby('time.month').mean().rename({'month': 'time'})\n",
    "argo_salt=en4_salt;argo_ptemp=en4_ptemp\n",
    "depth=argo_salt*0+argo_salt.LEV\n",
    "lat=argo_salt*0+argo_salt.latitude\n",
    "import seawater as sw\n",
    "dbar=sw.pres(depth,lat)+argo_salt*0\n",
    "import gsw\n",
    "ct=gsw.CT_from_pt(argo_salt, argo_ptemp)\n",
    "en4_rho,alpha,beta=gsw.rho_alpha_beta(argo_salt, ct, dbar)#rho是密度\n",
    "rho_mean=en4_rho.mean().data\n",
    "en4_rho=en4_rho-rho_mean"
   ]
  },
  {
   "cell_type": "code",
   "execution_count": null,
   "id": "cd89cab0",
   "metadata": {},
   "outputs": [],
   "source": [
    "ds=en4_rho;en4_mask=function.make_mask3D(en4_rho.sel(LEV=ds.LEV[0]),5/(ds.latitude.data[1]-ds.latitude.data[0]),ds.sel(LEV=ds.LEV[0]))"
   ]
  },
  {
   "cell_type": "code",
   "execution_count": null,
   "id": "8531d852",
   "metadata": {},
   "outputs": [],
   "source": [
    "ds=en4_ptemp;d_temp=-0.41\n",
    "sst=ds.sel(LEV=ds.LEV[0])\n",
    "ds=ds.interp(LEV=np.arange(ds.LEV[0],109.5,0.5))\n",
    "a=(ds>(sst+d_temp))\n",
    "ild_idx=ds.where(a,drop=False).squeeze().notnull().argmin(dim='LEV')#\n",
    "en4_ild=ds.LEV[ild_idx];print('max:',ild.max())\n",
    "#ds.where(a, drop=True)\n",
    "i=6;levels=np.arange(0,110,5)\n",
    "plt.subplot(1,2,1);plt.contourf(en4_ild[i,:,:]+sst[0,:,:]*0,levels=levels);plt.colorbar()\n",
    "file=\"E:\\data\\oras5\\somali-oras5\\oras5_mld&ild&mlt&T_n&mlu&mlv_climate.nc\"\n",
    "ds0 = xr.open_dataset(file);ild1 = ds0['ild'].sel(latitude=slice(0,20))\n",
    "plt.subplot(1,2,2);plt.contourf(ild1[i,:,:],levels=levels);plt.colorbar()"
   ]
  },
  {
   "cell_type": "code",
   "execution_count": null,
   "id": "bfe3b10e",
   "metadata": {},
   "outputs": [],
   "source": [
    "ds=en4_rho;d_rho=0.3\n",
    "ssrho=ds.sel(LEV=ds.LEV[0])\n",
    "ds=ds.interp(LEV=np.arange(ds.LEV[0],109.5,0.5))\n",
    "a=(ds<(ssrho+d_rho))\n",
    "mld_idx=ds.where(a,drop=False).squeeze().notnull().argmin(dim='LEV')#寻找最大深度，notnull使得缺失值为False，不参与后面的计算\n",
    "en4_mld=ds.LEV[mld_idx];print('max:',mld.max())\n",
    "#ds.where(a, drop=True)\n",
    "i=7;levels=np.arange(0,110,5)\n",
    "plt.subplot(1,2,1);plt.contourf(en4_mld[i,:,:]+sst[0,:,:]*0,levels=levels);plt.colorbar()\n",
    "file=\"E:\\data\\oras5\\somali-oras5\\oras5_mld&ild&mlt&T_n&mlu&mlv_climate.nc\"\n",
    "ds0 = xr.open_dataset(file);mld1 = ds0['mld'].sel(latitude=slice(0,20))\n",
    "plt.subplot(1,2,2);plt.contourf(mld1[i,:,:],levels=levels);plt.colorbar()"
   ]
  }
 ],
 "metadata": {
  "kernelspec": {
   "display_name": "Python 3 (ipykernel)",
   "language": "python",
   "name": "python3"
  },
  "language_info": {
   "codemirror_mode": {
    "name": "ipython",
    "version": 3
   },
   "file_extension": ".py",
   "mimetype": "text/x-python",
   "name": "python",
   "nbconvert_exporter": "python",
   "pygments_lexer": "ipython3",
   "version": "3.11.4"
  }
 },
 "nbformat": 4,
 "nbformat_minor": 5
}
